{
  "nbformat": 4,
  "nbformat_minor": 0,
  "metadata": {
    "colab": {
      "name": "Zulfatin Nafisah_2015015025_Mini_Projek_C_Tantangan.ipynb",
      "provenance": [],
      "collapsed_sections": [],
      "authorship_tag": "ABX9TyPQo3Q2rch6Kr2jRRdLYv6p",
      "include_colab_link": true
    },
    "kernelspec": {
      "name": "python3",
      "display_name": "Python 3"
    },
    "language_info": {
      "name": "python"
    }
  },
  "cells": [
    {
      "cell_type": "markdown",
      "metadata": {
        "id": "view-in-github",
        "colab_type": "text"
      },
      "source": [
        "<a href=\"https://colab.research.google.com/github/Zulfatinnafisah/Basic-Python-Programming-for-Data-Science/blob/main/Zulfatin_Nafisah_2015015025_Mini_Projek_C_Tantangan.ipynb\" target=\"_parent\"><img src=\"https://colab.research.google.com/assets/colab-badge.svg\" alt=\"Open In Colab\"/></a>"
      ]
    },
    {
      "cell_type": "markdown",
      "metadata": {
        "id": "LLtDsESOfnC_"
      },
      "source": [
        "#MINI PROJEK C [TANTANGAN]"
      ]
    },
    {
      "cell_type": "code",
      "metadata": {
        "id": "2XxSX8FrfrJl"
      },
      "source": [
        "import pandas as pd\n",
        "import numpy as np"
      ],
      "execution_count": 1,
      "outputs": []
    },
    {
      "cell_type": "markdown",
      "metadata": {
        "id": "8YovX6vkgJ1B"
      },
      "source": [
        "####Mencari Batas Bawah"
      ]
    },
    {
      "cell_type": "code",
      "metadata": {
        "colab": {
          "base_uri": "https://localhost:8080/"
        },
        "id": "Rh7m-8r0gO7T",
        "outputId": "ecd7d708-4f48-41bf-f25c-d1b4bf28ad90"
      },
      "source": [
        "x = 0.26667\n",
        "z =[]\n",
        "while x <= 2:\n",
        "  x = x + 0.33333\n",
        "  z.append(x)\n",
        "print(z)"
      ],
      "execution_count": 2,
      "outputs": [
        {
          "output_type": "stream",
          "text": [
            "[0.6000000000000001, 0.9333300000000001, 1.2666600000000001, 1.59999, 1.9333200000000001, 2.2666500000000003]\n"
          ],
          "name": "stdout"
        }
      ]
    },
    {
      "cell_type": "markdown",
      "metadata": {
        "id": "3RLU7g7Vga2b"
      },
      "source": [
        "####Mencari Batas Atas"
      ]
    },
    {
      "cell_type": "code",
      "metadata": {
        "colab": {
          "base_uri": "https://localhost:8080/"
        },
        "id": "-kQiOscmgd6X",
        "outputId": "0bea6b22-68df-4b74-db0d-37b79330c9e9"
      },
      "source": [
        "a=0.6\n",
        "b=[]\n",
        "while a < 2.5:\n",
        "  a = a + 0.33333\n",
        "  b.append(a)\n",
        "\n",
        "b[5] = 2.60000\n",
        "print(b)"
      ],
      "execution_count": 3,
      "outputs": [
        {
          "output_type": "stream",
          "text": [
            "[0.93333, 1.26666, 1.59999, 1.9333200000000001, 2.2666500000000003, 2.6]\n"
          ],
          "name": "stdout"
        }
      ]
    },
    {
      "cell_type": "markdown",
      "metadata": {
        "id": "S6KDW3rHglin"
      },
      "source": [
        "####Mencari Nilai Tengah"
      ]
    },
    {
      "cell_type": "code",
      "metadata": {
        "colab": {
          "base_uri": "https://localhost:8080/"
        },
        "id": "WonqwCOCgyXp",
        "outputId": "ca8e943f-f323-44b9-ded3-b9cd5c2c379b"
      },
      "source": [
        "p = np.add(z,b)\n",
        "q = p/2\n",
        "q"
      ],
      "execution_count": 4,
      "outputs": [
        {
          "output_type": "execute_result",
          "data": {
            "text/plain": [
              "array([0.766665, 1.099995, 1.433325, 1.766655, 2.099985, 2.433325])"
            ]
          },
          "metadata": {
            "tags": []
          },
          "execution_count": 4
        }
      ]
    },
    {
      "cell_type": "code",
      "metadata": {
        "colab": {
          "base_uri": "https://localhost:8080/",
          "height": 235
        },
        "id": "r5UeftZ7g6Jr",
        "outputId": "2566b67f-7298-4d95-a9c3-15d137fc0637"
      },
      "source": [
        "list1 = [\"U1\",\"U2\",\"U3\",\"U4\",\"U5\",\"U6\" ]\n",
        "dict1 = {\"Nama Kelas\":list1,  \"Batas Bawah\":z, \"Batas Atas\":b, \"Nilai Tengah\":q}\n",
        "df = pd.DataFrame(dict1)\n",
        "df"
      ],
      "execution_count": 5,
      "outputs": [
        {
          "output_type": "execute_result",
          "data": {
            "text/html": [
              "<div>\n",
              "<style scoped>\n",
              "    .dataframe tbody tr th:only-of-type {\n",
              "        vertical-align: middle;\n",
              "    }\n",
              "\n",
              "    .dataframe tbody tr th {\n",
              "        vertical-align: top;\n",
              "    }\n",
              "\n",
              "    .dataframe thead th {\n",
              "        text-align: right;\n",
              "    }\n",
              "</style>\n",
              "<table border=\"1\" class=\"dataframe\">\n",
              "  <thead>\n",
              "    <tr style=\"text-align: right;\">\n",
              "      <th></th>\n",
              "      <th>Nama Kelas</th>\n",
              "      <th>Batas Bawah</th>\n",
              "      <th>Batas Atas</th>\n",
              "      <th>Nilai Tengah</th>\n",
              "    </tr>\n",
              "  </thead>\n",
              "  <tbody>\n",
              "    <tr>\n",
              "      <th>0</th>\n",
              "      <td>U1</td>\n",
              "      <td>0.60000</td>\n",
              "      <td>0.93333</td>\n",
              "      <td>0.766665</td>\n",
              "    </tr>\n",
              "    <tr>\n",
              "      <th>1</th>\n",
              "      <td>U2</td>\n",
              "      <td>0.93333</td>\n",
              "      <td>1.26666</td>\n",
              "      <td>1.099995</td>\n",
              "    </tr>\n",
              "    <tr>\n",
              "      <th>2</th>\n",
              "      <td>U3</td>\n",
              "      <td>1.26666</td>\n",
              "      <td>1.59999</td>\n",
              "      <td>1.433325</td>\n",
              "    </tr>\n",
              "    <tr>\n",
              "      <th>3</th>\n",
              "      <td>U4</td>\n",
              "      <td>1.59999</td>\n",
              "      <td>1.93332</td>\n",
              "      <td>1.766655</td>\n",
              "    </tr>\n",
              "    <tr>\n",
              "      <th>4</th>\n",
              "      <td>U5</td>\n",
              "      <td>1.93332</td>\n",
              "      <td>2.26665</td>\n",
              "      <td>2.099985</td>\n",
              "    </tr>\n",
              "    <tr>\n",
              "      <th>5</th>\n",
              "      <td>U6</td>\n",
              "      <td>2.26665</td>\n",
              "      <td>2.60000</td>\n",
              "      <td>2.433325</td>\n",
              "    </tr>\n",
              "  </tbody>\n",
              "</table>\n",
              "</div>"
            ],
            "text/plain": [
              "  Nama Kelas  Batas Bawah  Batas Atas  Nilai Tengah\n",
              "0         U1      0.60000     0.93333      0.766665\n",
              "1         U2      0.93333     1.26666      1.099995\n",
              "2         U3      1.26666     1.59999      1.433325\n",
              "3         U4      1.59999     1.93332      1.766655\n",
              "4         U5      1.93332     2.26665      2.099985\n",
              "5         U6      2.26665     2.60000      2.433325"
            ]
          },
          "metadata": {
            "tags": []
          },
          "execution_count": 5
        }
      ]
    }
  ]
}