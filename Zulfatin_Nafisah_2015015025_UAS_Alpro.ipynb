{
  "nbformat": 4,
  "nbformat_minor": 0,
  "metadata": {
    "colab": {
      "name": "Zulfatin Nafisah_2015015025_UAS_Alpro.ipynb",
      "provenance": [],
      "authorship_tag": "ABX9TyOKM4Y+8TS5s0WoIL6wy5eM",
      "include_colab_link": true
    },
    "kernelspec": {
      "name": "python3",
      "display_name": "Python 3"
    },
    "language_info": {
      "name": "python"
    }
  },
  "cells": [
    {
      "cell_type": "markdown",
      "metadata": {
        "id": "view-in-github",
        "colab_type": "text"
      },
      "source": [
        "<a href=\"https://colab.research.google.com/github/Zulfatinnafisah/Basic-Python-Programming-for-Data-Science/blob/main/Zulfatin_Nafisah_2015015025_UAS_Alpro.ipynb\" target=\"_parent\"><img src=\"https://colab.research.google.com/assets/colab-badge.svg\" alt=\"Open In Colab\"/></a>"
      ]
    },
    {
      "cell_type": "markdown",
      "metadata": {
        "id": "r6i4sXkM-gWi"
      },
      "source": [
        "##No 1a"
      ]
    },
    {
      "cell_type": "code",
      "metadata": {
        "colab": {
          "base_uri": "https://localhost:8080/"
        },
        "id": "Y5hOIc2S-kf4",
        "outputId": "91e910c4-de40-49fe-ae78-957d6b000a58"
      },
      "source": [
        "Tahun_ini = 2015 \n",
        "print(\" Anda berada di tahun :  \" + str(Tahun_ini))\n",
        "umur = int(input(\"berapa umur anda ?\"))\n",
        "print(\"Anda Berumur  \" + str(umur) + \" Tahun.\")\n",
        "for x in range(2016,2051):\n",
        "  umur = umur+1\n",
        "  print(\"pada tahun\", x , \"Saya berumur\" + str(umur) + \"tahun.\")"
      ],
      "execution_count": 9,
      "outputs": [
        {
          "output_type": "stream",
          "text": [
            " Anda berada di tahun :  2015\n",
            "berapa umur anda ?13\n",
            "Anda Berumur  13 Tahun.\n",
            "pada tahun 2016 Saya berumur14tahun.\n",
            "pada tahun 2017 Saya berumur15tahun.\n",
            "pada tahun 2018 Saya berumur16tahun.\n",
            "pada tahun 2019 Saya berumur17tahun.\n",
            "pada tahun 2020 Saya berumur18tahun.\n",
            "pada tahun 2021 Saya berumur19tahun.\n",
            "pada tahun 2022 Saya berumur20tahun.\n",
            "pada tahun 2023 Saya berumur21tahun.\n",
            "pada tahun 2024 Saya berumur22tahun.\n",
            "pada tahun 2025 Saya berumur23tahun.\n",
            "pada tahun 2026 Saya berumur24tahun.\n",
            "pada tahun 2027 Saya berumur25tahun.\n",
            "pada tahun 2028 Saya berumur26tahun.\n",
            "pada tahun 2029 Saya berumur27tahun.\n",
            "pada tahun 2030 Saya berumur28tahun.\n",
            "pada tahun 2031 Saya berumur29tahun.\n",
            "pada tahun 2032 Saya berumur30tahun.\n",
            "pada tahun 2033 Saya berumur31tahun.\n",
            "pada tahun 2034 Saya berumur32tahun.\n",
            "pada tahun 2035 Saya berumur33tahun.\n",
            "pada tahun 2036 Saya berumur34tahun.\n",
            "pada tahun 2037 Saya berumur35tahun.\n",
            "pada tahun 2038 Saya berumur36tahun.\n",
            "pada tahun 2039 Saya berumur37tahun.\n",
            "pada tahun 2040 Saya berumur38tahun.\n",
            "pada tahun 2041 Saya berumur39tahun.\n",
            "pada tahun 2042 Saya berumur40tahun.\n",
            "pada tahun 2043 Saya berumur41tahun.\n",
            "pada tahun 2044 Saya berumur42tahun.\n",
            "pada tahun 2045 Saya berumur43tahun.\n",
            "pada tahun 2046 Saya berumur44tahun.\n",
            "pada tahun 2047 Saya berumur45tahun.\n",
            "pada tahun 2048 Saya berumur46tahun.\n",
            "pada tahun 2049 Saya berumur47tahun.\n",
            "pada tahun 2050 Saya berumur48tahun.\n"
          ],
          "name": "stdout"
        }
      ]
    },
    {
      "cell_type": "markdown",
      "metadata": {
        "id": "-hPe_qoBLum1"
      },
      "source": [
        "## No 1b"
      ]
    },
    {
      "cell_type": "code",
      "metadata": {
        "colab": {
          "base_uri": "https://localhost:8080/"
        },
        "id": "D2fuZElaLxWH",
        "outputId": "5807d4b7-97ec-49ab-f167-61fedf82ebdc"
      },
      "source": [
        "Tahun_ini = 2015 \n",
        "print(\" Anda berada di tahun :  \" + str(Tahun_ini))\n",
        "umur = int(input(\"berapa umur anda?\"))\n",
        "usia = 2050 - Tahun_ini + umur\n",
        "print(\"Pada tahun 2050 anda akan berusia \" + str(usia) + \" Tahun.\")"
      ],
      "execution_count": 14,
      "outputs": [
        {
          "output_type": "stream",
          "text": [
            " Anda berada di tahun :  2015\n",
            "berapa umur anda?13\n",
            "Pada tahun 2050 anda akan berusia 48 Tahun.\n"
          ],
          "name": "stdout"
        }
      ]
    },
    {
      "cell_type": "markdown",
      "metadata": {
        "id": "oVRSa-MXMots"
      },
      "source": [
        "##No 1c"
      ]
    },
    {
      "cell_type": "code",
      "metadata": {
        "colab": {
          "base_uri": "https://localhost:8080/"
        },
        "id": "hS8fxuGTMrcS",
        "outputId": "17c959e4-edec-4891-b6b5-e524241527fd"
      },
      "source": [
        "Tahun_ini = 2015 \n",
        "print(\" Anda berada di tahun :  \" + str(Tahun_ini))\n",
        "umur = int(input(\"berapa umur anda ?\"))\n",
        "Lahir= Tahun_ini - umur\n",
        "print(\"Anda lahir di tahun  \" + str(Lahir))"
      ],
      "execution_count": 15,
      "outputs": [
        {
          "output_type": "stream",
          "text": [
            " Anda berada di tahun :  2015\n",
            "berapa umur anda ?13\n",
            "Anda lahir di tahun  2002\n"
          ],
          "name": "stdout"
        }
      ]
    },
    {
      "cell_type": "markdown",
      "metadata": {
        "id": "Ki2ToOLGPMiX"
      },
      "source": [
        "##No 1d"
      ]
    },
    {
      "cell_type": "code",
      "metadata": {
        "colab": {
          "base_uri": "https://localhost:8080/"
        },
        "id": "EZsyTWiLPP2C",
        "outputId": "a44a994a-e475-4861-d37b-52729b869dd2"
      },
      "source": [
        "Tahun_ini = 2015 \n",
        "print(\"Anda berada di tahun :  \" + str(Tahun_ini))\n",
        "umur = int(input(\"berapa umur anda ?\"))\n",
        "umur21=21-umur\n",
        "print(str(umur21)+\" tahun lagi anda berusia 21 tahun.\")"
      ],
      "execution_count": 22,
      "outputs": [
        {
          "output_type": "stream",
          "text": [
            "Anda berada di tahun :  2015\n",
            "berapa umur anda ?13\n",
            "8 tahun lagi anda berusia 21 tahun.\n"
          ],
          "name": "stdout"
        }
      ]
    },
    {
      "cell_type": "markdown",
      "metadata": {
        "id": "uDhUy_gDQYpw"
      },
      "source": [
        "##2a"
      ]
    },
    {
      "cell_type": "code",
      "metadata": {
        "id": "rTR-BXBqQbQZ"
      },
      "source": [
        "def flipCoin() :\n",
        "    a = int(input(\"Random Number : \"))\n",
        "    if a == 1 :\n",
        "        return \"Kepala\"\n",
        "    elif a == 2 :\n",
        "        return \"Ekor\""
      ],
      "execution_count": 19,
      "outputs": []
    },
    {
      "cell_type": "markdown",
      "metadata": {
        "id": "BSfGgbpIRGsq"
      },
      "source": [
        "##2b"
      ]
    },
    {
      "cell_type": "code",
      "metadata": {
        "id": "-VWYQLaSRIPy"
      },
      "source": [
        "def permainan() : \n",
        "    print(\"Kepala atau Ekor\")\n",
        "    score = 0\n",
        "    for i in range(1,6,1) : \n",
        "        print(\"Putaran ke- \",i)\n",
        "        pemain = input(\"Kepala atau Ekor ? \")\n",
        "        while pemain != \"Kepala\" and pemain != \"Ekor\" : \n",
        "            pemain = input(\"Kepala atau Ekor ? \")\n",
        "        coin = flipCoin()\n",
        "        print(coin)\n",
        "        if pemain == coin :\n",
        "            print(\"Selamat\")\n",
        "            score+=1\n",
        "        else : \n",
        "            print(\"Anda belum beruntung\")\n",
        "        print(\"Score anda : \", score, \"Pada putaran ke- \",i)\n",
        "    print(\"Permainan berakhir \\n\")"
      ],
      "execution_count": 20,
      "outputs": []
    },
    {
      "cell_type": "markdown",
      "metadata": {
        "id": "098s19RgRMc0"
      },
      "source": [
        "##2c"
      ]
    },
    {
      "cell_type": "code",
      "metadata": {
        "colab": {
          "base_uri": "https://localhost:8080/"
        },
        "id": "QwihpP7hROh-",
        "outputId": "a54401d9-8113-4e2b-cd07-c136b52d5a36"
      },
      "source": [
        "for i in range(1,6,1) : \n",
        "        print(\"Putaran ke- \",i)\n",
        "        pemain = input(\"Kepala atau Ekor ? \")\n",
        "        while pemain != \"Kepala\" and pemain != \"Ekor\" : \n",
        "            pemain = input(\"Kepala atau Ekor ? \")\n",
        "        coin = flipCoin()\n",
        "        print(coin)"
      ],
      "execution_count": 23,
      "outputs": [
        {
          "output_type": "stream",
          "text": [
            "Putaran ke-  1\n",
            "Kepala atau Ekor ? Kepala\n",
            "Random Number : 2\n",
            "Ekor\n",
            "Putaran ke-  2\n",
            "Kepala atau Ekor ? Ekor\n",
            "Random Number : 1\n",
            "Kepala\n",
            "Putaran ke-  3\n",
            "Kepala atau Ekor ? Kepala\n",
            "Random Number : 4\n",
            "None\n",
            "Putaran ke-  4\n",
            "Kepala atau Ekor ? Ekor\n",
            "Random Number : 3\n",
            "None\n",
            "Putaran ke-  5\n",
            "Kepala atau Ekor ? Kepala\n",
            "Random Number : 5\n",
            "None\n"
          ],
          "name": "stdout"
        }
      ]
    },
    {
      "cell_type": "markdown",
      "metadata": {
        "id": "h_eeU28uRcsq"
      },
      "source": [
        "##2d"
      ]
    },
    {
      "cell_type": "code",
      "metadata": {
        "colab": {
          "base_uri": "https://localhost:8080/"
        },
        "id": "4cN8gnIERepw",
        "outputId": "bd066390-2e5d-4f5e-cabf-4a7394084c41"
      },
      "source": [
        "y = input(\"Apakah anda ingin bermain lagi? (Yes/No) \")\n",
        "while y == \"Yes\" :\n",
        "    permainan()\n",
        "    y = input(\"Apakah anda ingin bermain lagi? (Yes/No) \")\n",
        "print(\"Permainan berakhir\")"
      ],
      "execution_count": 24,
      "outputs": [
        {
          "output_type": "stream",
          "text": [
            "Apakah anda ingin bermain lagi? (Yes/No) Yes\n",
            "Kepala atau Ekor\n",
            "Putaran ke-  1\n",
            "Kepala atau Ekor ? Ekor\n",
            "Random Number : 5\n",
            "None\n",
            "Anda belum beruntung\n",
            "Score anda :  0 Pada putaran ke-  1\n",
            "Putaran ke-  2\n",
            "Kepala atau Ekor ? Kepala\n",
            "Random Number : 4\n",
            "None\n",
            "Anda belum beruntung\n",
            "Score anda :  0 Pada putaran ke-  2\n",
            "Putaran ke-  3\n",
            "Kepala atau Ekor ? Ekor\n",
            "Random Number : 3\n",
            "None\n",
            "Anda belum beruntung\n",
            "Score anda :  0 Pada putaran ke-  3\n",
            "Putaran ke-  4\n",
            "Kepala atau Ekor ? Kepala\n",
            "Random Number : 1\n",
            "Kepala\n",
            "Selamat\n",
            "Score anda :  1 Pada putaran ke-  4\n",
            "Putaran ke-  5\n",
            "Kepala atau Ekor ? Kepala\n",
            "Random Number : 2\n",
            "Ekor\n",
            "Anda belum beruntung\n",
            "Score anda :  1 Pada putaran ke-  5\n",
            "Permainan berakhir \n",
            "\n",
            "Apakah anda ingin bermain lagi? (Yes/No) No\n",
            "Permainan berakhir\n"
          ],
          "name": "stdout"
        }
      ]
    }
  ]
}