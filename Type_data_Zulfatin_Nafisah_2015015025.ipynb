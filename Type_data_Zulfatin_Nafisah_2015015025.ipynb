{
  "nbformat": 4,
  "nbformat_minor": 0,
  "metadata": {
    "colab": {
      "name": "Type_data_Zulfatin_Nafisah_2015015025.ipynb",
      "provenance": [],
      "include_colab_link": true
    },
    "kernelspec": {
      "name": "python3",
      "display_name": "Python 3"
    },
    "language_info": {
      "name": "python"
    }
  },
  "cells": [
    {
      "cell_type": "markdown",
      "metadata": {
        "id": "view-in-github",
        "colab_type": "text"
      },
      "source": [
        "<a href=\"https://colab.research.google.com/github/Zulfatinnafisah/Basic-Python-Programming-for-Data-Science/blob/main/Type_data_Zulfatin_Nafisah_2015015025.ipynb\" target=\"_parent\"><img src=\"https://colab.research.google.com/assets/colab-badge.svg\" alt=\"Open In Colab\"/></a>"
      ]
    },
    {
      "cell_type": "code",
      "metadata": {
        "colab": {
          "base_uri": "https://localhost:8080/"
        },
        "id": "rWpKUE6j8TkY",
        "outputId": "7973f835-5deb-46ec-8cb5-6bfc5513944a"
      },
      "source": [
        "print(\"Selamat pagi\")\n",
        "X = \"We are happy\"\n",
        "print(\"Selamat pagi\",X)"
      ],
      "execution_count": null,
      "outputs": [
        {
          "output_type": "stream",
          "text": [
            "Selamat pagi\n",
            "Selamat pagi We are happy\n"
          ],
          "name": "stdout"
        }
      ]
    },
    {
      "cell_type": "code",
      "metadata": {
        "colab": {
          "base_uri": "https://localhost:8080/"
        },
        "id": "TNEstOG39N8j",
        "outputId": "6d5198ee-ebcc-423d-bf81-3aa5ceeed677"
      },
      "source": [
        "#type data string\n",
        "a=\"Selamat Belajar\"\n",
        "print(a)\n",
        "print(type(a))"
      ],
      "execution_count": null,
      "outputs": [
        {
          "output_type": "stream",
          "text": [
            "Selamat Belajar\n",
            "<class 'str'>\n"
          ],
          "name": "stdout"
        }
      ]
    },
    {
      "cell_type": "code",
      "metadata": {
        "colab": {
          "base_uri": "https://localhost:8080/"
        },
        "id": "O0xy1cT79m0g",
        "outputId": "2ceb0e2d-0703-4339-9696-5ec4cfa3f8d0"
      },
      "source": [
        "#type data integer\n",
        "x= 270602\n",
        "print(x)\n",
        "print(type(x))"
      ],
      "execution_count": null,
      "outputs": [
        {
          "output_type": "stream",
          "text": [
            "270602\n",
            "<class 'int'>\n"
          ],
          "name": "stdout"
        }
      ]
    },
    {
      "cell_type": "code",
      "metadata": {
        "colab": {
          "base_uri": "https://localhost:8080/"
        },
        "id": "gsW5VlKK94cL",
        "outputId": "1db67477-655e-4ebb-e8ad-b9e15ba6c82b"
      },
      "source": [
        "#type data float\n",
        "b= 0.2345\n",
        "print(b)\n",
        "print(type(b))"
      ],
      "execution_count": null,
      "outputs": [
        {
          "output_type": "stream",
          "text": [
            "0.2345\n",
            "<class 'float'>\n"
          ],
          "name": "stdout"
        }
      ]
    },
    {
      "cell_type": "code",
      "metadata": {
        "colab": {
          "base_uri": "https://localhost:8080/"
        },
        "id": "655Eik7c-G-Z",
        "outputId": "ffd74ddf-a44a-45b4-c7c0-2426e536a384"
      },
      "source": [
        "#type data compleks number\n",
        "y = 5j + 2\n",
        "print(y)\n",
        "print(type(y))"
      ],
      "execution_count": null,
      "outputs": [
        {
          "output_type": "stream",
          "text": [
            "(2+5j)\n",
            "<class 'complex'>\n"
          ],
          "name": "stdout"
        }
      ]
    },
    {
      "cell_type": "code",
      "metadata": {
        "colab": {
          "base_uri": "https://localhost:8080/"
        },
        "id": "DEBh4NPI-kit",
        "outputId": "39802138-0691-4f6a-e3bf-e1733c182abe"
      },
      "source": [
        "#type data boolean\n",
        "c= True\n",
        "print(c)\n",
        "print(type(c))\n",
        "\n"
      ],
      "execution_count": null,
      "outputs": [
        {
          "output_type": "stream",
          "text": [
            "True\n",
            "<class 'bool'>\n"
          ],
          "name": "stdout"
        }
      ]
    },
    {
      "cell_type": "code",
      "metadata": {
        "colab": {
          "base_uri": "https://localhost:8080/"
        },
        "id": "dPwe5S95_Dl0",
        "outputId": "35f5cd7f-f338-4363-802e-204170204825"
      },
      "source": [
        "#type data list\n",
        "z=[\"satu\",\"dua\" ,\"tiga\", \"empat\"]\n",
        "print(z)\n",
        "print(type(z))"
      ],
      "execution_count": null,
      "outputs": [
        {
          "output_type": "stream",
          "text": [
            "['satu', 'dua', 'tiga', 'empat']\n",
            "<class 'list'>\n"
          ],
          "name": "stdout"
        }
      ]
    },
    {
      "cell_type": "code",
      "metadata": {
        "colab": {
          "base_uri": "https://localhost:8080/"
        },
        "id": "Kt2e_4sU_qTn",
        "outputId": "fb6e614d-d70c-4c94-bbda-62cb375462e8"
      },
      "source": [
        "#type data tuple\n",
        "d=(\"satu\",\"dua\" ,\"tiga\", \"empat\")\n",
        "print(d)\n",
        "print(type(d))"
      ],
      "execution_count": null,
      "outputs": [
        {
          "output_type": "stream",
          "text": [
            "('satu', 'dua', 'tiga', 'empat')\n",
            "<class 'tuple'>\n"
          ],
          "name": "stdout"
        }
      ]
    },
    {
      "cell_type": "code",
      "metadata": {
        "colab": {
          "base_uri": "https://localhost:8080/"
        },
        "id": "UhA4s5Ps_5OT",
        "outputId": "d2217004-6277-41a1-fc44-c582b87c2a0b"
      },
      "source": [
        "#type data set\n",
        "e={\"satu\",\"dua\" ,\"tiga\", \"empat\"}\n",
        "print(e)\n",
        "print(type(e))"
      ],
      "execution_count": null,
      "outputs": [
        {
          "output_type": "stream",
          "text": [
            "{'dua', 'tiga', 'satu', 'empat'}\n",
            "<class 'set'>\n"
          ],
          "name": "stdout"
        }
      ]
    },
    {
      "cell_type": "code",
      "metadata": {
        "colab": {
          "base_uri": "https://localhost:8080/"
        },
        "id": "O1oZ2HN7ASxM",
        "outputId": "6ae86272-b7d5-4d8b-be2b-f3febd1a7f94"
      },
      "source": [
        "#type data dictionary\n",
        "f= {1:\"satu\",2:\"dua\" ,3:\"tiga\", 4:\"empat\"}\n",
        "print(f)\n",
        "print(type(f))"
      ],
      "execution_count": null,
      "outputs": [
        {
          "output_type": "stream",
          "text": [
            "{1: 'satu', 2: 'dua', 3: 'tiga', 4: 'empat'}\n",
            "<class 'dict'>\n"
          ],
          "name": "stdout"
        }
      ]
    }
  ]
}