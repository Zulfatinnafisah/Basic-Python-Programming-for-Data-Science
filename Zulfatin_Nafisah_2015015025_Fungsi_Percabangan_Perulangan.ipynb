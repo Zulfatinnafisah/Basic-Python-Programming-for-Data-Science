{
  "nbformat": 4,
  "nbformat_minor": 0,
  "metadata": {
    "colab": {
      "name": "Zulfatin_Nafisah_2015015025_Fungsi_Percabangan_Perulangan.ipynb",
      "provenance": [],
      "collapsed_sections": [],
      "include_colab_link": true
    },
    "kernelspec": {
      "name": "python3",
      "display_name": "Python 3"
    },
    "language_info": {
      "name": "python"
    }
  },
  "cells": [
    {
      "cell_type": "markdown",
      "metadata": {
        "id": "view-in-github",
        "colab_type": "text"
      },
      "source": [
        "<a href=\"https://colab.research.google.com/github/Zulfatinnafisah/Basic-Python-Programming-for-Data-Science/blob/main/Zulfatin_Nafisah_2015015025_Fungsi_Percabangan_Perulangan.ipynb\" target=\"_parent\"><img src=\"https://colab.research.google.com/assets/colab-badge.svg\" alt=\"Open In Colab\"/></a>"
      ]
    },
    {
      "cell_type": "code",
      "metadata": {
        "colab": {
          "base_uri": "https://localhost:8080/"
        },
        "id": "F7e2VzDKEk8l",
        "outputId": "13d4b6e8-19fe-41fc-a4d1-73b724a008ba"
      },
      "source": [
        "x = []\n",
        "for x in range (4,13):\n",
        "  if (x%2)==0:\n",
        "    print(x,\"adalah bilangan genap\")\n",
        "\n",
        "for x in range (4,13):\n",
        "  if (x%2)==1:\n",
        "    print(x, \"adalah bilangan ganjil\")   "
      ],
      "execution_count": null,
      "outputs": [
        {
          "output_type": "stream",
          "text": [
            "4 adalah bilangan genap\n",
            "6 adalah bilangan genap\n",
            "8 adalah bilangan genap\n",
            "10 adalah bilangan genap\n",
            "12 adalah bilangan genap\n",
            "5 adalah bilangan ganjil\n",
            "7 adalah bilangan ganjil\n",
            "9 adalah bilangan ganjil\n",
            "11 adalah bilangan ganjil\n"
          ],
          "name": "stdout"
        }
      ]
    }
  ]
}