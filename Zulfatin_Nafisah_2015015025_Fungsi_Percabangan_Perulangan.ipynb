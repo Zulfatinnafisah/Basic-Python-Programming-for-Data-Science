{
  "nbformat": 4,
  "nbformat_minor": 0,
  "metadata": {
    "colab": {
      "name": "Zulfatin_Nafisah_2015015025_Fungsi_Percabangan_Perulangan (2).ipynb",
      "provenance": [],
      "collapsed_sections": [],
      "include_colab_link": true
    },
    "kernelspec": {
      "name": "python3",
      "display_name": "Python 3"
    },
    "language_info": {
      "name": "python"
    }
  },
  "cells": [
    {
      "cell_type": "markdown",
      "metadata": {
        "id": "view-in-github",
        "colab_type": "text"
      },
      "source": [
        "<a href=\"https://colab.research.google.com/github/Zulfatinnafisah/Basic-Python-Programming-for-Data-Science/blob/main/Zulfatin_Nafisah_2015015025_Fungsi_Percabangan_Perulangan.ipynb\" target=\"_parent\"><img src=\"https://colab.research.google.com/assets/colab-badge.svg\" alt=\"Open In Colab\"/></a>"
      ]
    },
    {
      "cell_type": "code",
      "metadata": {
        "colab": {
          "base_uri": "https://localhost:8080/"
        },
        "id": "F7e2VzDKEk8l",
        "outputId": "ceaa84fa-b1ee-4163-80e4-676f0a014319"
      },
      "source": [
        "x = []\n",
        "for x in range (4,13):\n",
        "  if (x%2)==0:\n",
        "    print(x,\"= genap\" , end=' , ')\n",
        "  elif (x%2)==1:\n",
        "    print(x, \"= ganjil\" , end=' , ')   "
      ],
      "execution_count": null,
      "outputs": [
        {
          "output_type": "stream",
          "text": [
            "4 = genap , 5 = ganjil , 6 = genap , 7 = ganjil , 8 = genap , 9 = ganjil , 10 = genap , 11 = ganjil , 12 = genap , "
          ],
          "name": "stdout"
        }
      ]
    }
  ]
}