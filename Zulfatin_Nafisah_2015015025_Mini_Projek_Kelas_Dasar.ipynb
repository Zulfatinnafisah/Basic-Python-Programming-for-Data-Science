{
  "nbformat": 4,
  "nbformat_minor": 0,
  "metadata": {
    "colab": {
      "name": "Zulfatin Nafisah_2015015025_Mini_Projek_Kelas_Dasar.ipynb",
      "provenance": [],
      "collapsed_sections": [],
      "authorship_tag": "ABX9TyNCZwMLjoZbuLGwq89CqeeT",
      "include_colab_link": true
    },
    "kernelspec": {
      "name": "python3",
      "display_name": "Python 3"
    },
    "language_info": {
      "name": "python"
    }
  },
  "cells": [
    {
      "cell_type": "markdown",
      "metadata": {
        "id": "view-in-github",
        "colab_type": "text"
      },
      "source": [
        "<a href=\"https://colab.research.google.com/github/Zulfatinnafisah/Basic-Python-Programming-for-Data-Science/blob/main/Zulfatin_Nafisah_2015015025_Mini_Projek_Kelas_Dasar.ipynb\" target=\"_parent\"><img src=\"https://colab.research.google.com/assets/colab-badge.svg\" alt=\"Open In Colab\"/></a>"
      ]
    },
    {
      "cell_type": "markdown",
      "metadata": {
        "id": "7tDHxEM0NKQp"
      },
      "source": [
        "##MINI PROJEK [A]"
      ]
    },
    {
      "cell_type": "markdown",
      "metadata": {
        "id": "kTt1QdB8OBuS"
      },
      "source": [
        "# Fungsi \"Pos_Neg_Nol\""
      ]
    },
    {
      "cell_type": "code",
      "metadata": {
        "colab": {
          "base_uri": "https://localhost:8080/"
        },
        "id": "UI6BmJzULpL4",
        "outputId": "4b424eb5-8560-418e-a1cb-9d1470ebdd4b"
      },
      "source": [
        "x = int(input(\"masukkan bilangan x = \"))\n",
        "if x>0:\n",
        "  print(x,\"adalah bilangan positif\")\n",
        "elif x==0:\n",
        "  print(x,\"nol\")\n",
        "else:\n",
        "  print(X,\"adalah bilangan negatif\")"
      ],
      "execution_count": null,
      "outputs": [
        {
          "output_type": "stream",
          "text": [
            "masukkan bilangan x = 4\n",
            "4 adalah bilangan positif\n"
          ],
          "name": "stdout"
        }
      ]
    },
    {
      "cell_type": "markdown",
      "metadata": {
        "id": "5ul3dgQSa1PK"
      },
      "source": [
        "# Fungsi \"Mahal_Diskon\""
      ]
    },
    {
      "cell_type": "code",
      "metadata": {
        "id": "oLjv2x84e42n",
        "colab": {
          "base_uri": "https://localhost:8080/"
        },
        "outputId": "715d770d-c50d-40a6-e145-18f1ed729817"
      },
      "source": [
        "jumlah = int(input(\"Masukkan jumlah barang  = \"))\n",
        "harga = int(input(\"Masukkan harga barang = \"))\n",
        "total = (jumlah * harga)\n",
        "print(\"Jumlah Total = \" , total)\n",
        "\n",
        "if total >= 350000:\n",
        "  diskon = total * (40/100)\n",
        "  print(\"Kamu Dapat Diskon 40%\")\n",
        "elif total >= 300000:\n",
        "  diskon = total * (20/100)\n",
        "  print(\"Kamu Dapat Diskon 20%\") \n",
        "elif total >= 200000:\n",
        "  diskon = total * (10/100)\n",
        "  print(\"Kamu Dapat Diskon 10%\")\n",
        "else:\n",
        "  diskon = total * (0/100)\n",
        "  print (\"Maaf Kamu Belum Dapat Diskon\")\n",
        "\n",
        "harga_diskon = total - diskon\n",
        "if harga_diskon > 200000:\n",
        "  print(\"Mahal\")\n",
        "else:\n",
        "  print(\"Murah\")\n",
        "print(\"Harga yang perlu dibayarkan = \" , harga_diskon)"
      ],
      "execution_count": null,
      "outputs": [
        {
          "output_type": "stream",
          "text": [
            "Masukkan jumlah barang  = 25\n",
            "Masukkan harga barang = 300000\n",
            "Jumlah Total =  7500000\n",
            "Kamu Dapat Diskon 40%\n",
            "Mahal\n",
            "Harga yang perlu dibayarkan =  4500000.0\n"
          ],
          "name": "stdout"
        }
      ]
    },
    {
      "cell_type": "markdown",
      "metadata": {
        "id": "ZxgyUiyQOXY6"
      },
      "source": [
        "##MINI PROJEK [B]"
      ]
    },
    {
      "cell_type": "code",
      "metadata": {
        "colab": {
          "base_uri": "https://localhost:8080/",
          "height": 142
        },
        "id": "asFYoCbqOlEI",
        "outputId": "8218b7c8-3767-426f-e2c3-3067da870ee4"
      },
      "source": [
        "import pandas as pd\n",
        "import numpy as np\n",
        "data = {'Bilangan':[1,-11,112],\n",
        "        'Genap/Ganjil' : ['Ganjil','Ganjil','Genap'],\n",
        "        'Pos/Neg/Nol' :['Positif','Negatif','Positif'],\n",
        "        'Satuan/Ratusan,Ribuan': ['Satuan','Puluhan','Ratusan']}\n",
        "df = pd.DataFrame(data)\n",
        "df"
      ],
      "execution_count": null,
      "outputs": [
        {
          "output_type": "execute_result",
          "data": {
            "text/html": [
              "<div>\n",
              "<style scoped>\n",
              "    .dataframe tbody tr th:only-of-type {\n",
              "        vertical-align: middle;\n",
              "    }\n",
              "\n",
              "    .dataframe tbody tr th {\n",
              "        vertical-align: top;\n",
              "    }\n",
              "\n",
              "    .dataframe thead th {\n",
              "        text-align: right;\n",
              "    }\n",
              "</style>\n",
              "<table border=\"1\" class=\"dataframe\">\n",
              "  <thead>\n",
              "    <tr style=\"text-align: right;\">\n",
              "      <th></th>\n",
              "      <th>Bilangan</th>\n",
              "      <th>Genap/Ganjil</th>\n",
              "      <th>Pos/Neg/Nol</th>\n",
              "      <th>Satuan/Ratusan,Ribuan</th>\n",
              "    </tr>\n",
              "  </thead>\n",
              "  <tbody>\n",
              "    <tr>\n",
              "      <th>0</th>\n",
              "      <td>1</td>\n",
              "      <td>Ganjil</td>\n",
              "      <td>Positif</td>\n",
              "      <td>Satuan</td>\n",
              "    </tr>\n",
              "    <tr>\n",
              "      <th>1</th>\n",
              "      <td>-11</td>\n",
              "      <td>Ganjil</td>\n",
              "      <td>Negatif</td>\n",
              "      <td>Puluhan</td>\n",
              "    </tr>\n",
              "    <tr>\n",
              "      <th>2</th>\n",
              "      <td>112</td>\n",
              "      <td>Genap</td>\n",
              "      <td>Positif</td>\n",
              "      <td>Ratusan</td>\n",
              "    </tr>\n",
              "  </tbody>\n",
              "</table>\n",
              "</div>"
            ],
            "text/plain": [
              "   Bilangan Genap/Ganjil Pos/Neg/Nol Satuan/Ratusan,Ribuan\n",
              "0         1       Ganjil     Positif                Satuan\n",
              "1       -11       Ganjil     Negatif               Puluhan\n",
              "2       112        Genap     Positif               Ratusan"
            ]
          },
          "metadata": {
            "tags": []
          },
          "execution_count": 4
        }
      ]
    }
  ]
}