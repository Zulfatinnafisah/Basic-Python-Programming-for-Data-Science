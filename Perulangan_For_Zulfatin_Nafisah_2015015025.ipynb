{
  "nbformat": 4,
  "nbformat_minor": 0,
  "metadata": {
    "colab": {
      "name": "Perulangan_For_Zulfatin_Nafisah_2015015025.ipynb",
      "provenance": [],
      "collapsed_sections": [],
      "authorship_tag": "ABX9TyMT3AKp1ioFSDUFCEhGfm8X",
      "include_colab_link": true
    },
    "kernelspec": {
      "name": "python3",
      "display_name": "Python 3"
    },
    "language_info": {
      "name": "python"
    }
  },
  "cells": [
    {
      "cell_type": "markdown",
      "metadata": {
        "id": "view-in-github",
        "colab_type": "text"
      },
      "source": [
        "<a href=\"https://colab.research.google.com/github/Zulfatinnafisah/Basic-Python-Programming-for-Data-Science/blob/main/Perulangan_For_Zulfatin_Nafisah_2015015025.ipynb\" target=\"_parent\"><img src=\"https://colab.research.google.com/assets/colab-badge.svg\" alt=\"Open In Colab\"/></a>"
      ]
    },
    {
      "cell_type": "code",
      "metadata": {
        "colab": {
          "base_uri": "https://localhost:8080/"
        },
        "id": "FjNnHoKUgojv",
        "outputId": "5d43796f-7d4a-4e20-d3a8-cd8238c7af54"
      },
      "source": [
        "n = int(input('masukkan nilai n:'))\n",
        "for i in range (1,n):\n",
        "  s=i\n",
        "  print(s,end=\" \")"
      ],
      "execution_count": null,
      "outputs": [
        {
          "output_type": "stream",
          "text": [
            "masukkan nilai n:11\n",
            "1 2 3 4 5 6 7 8 9 10 "
          ],
          "name": "stdout"
        }
      ]
    },
    {
      "cell_type": "code",
      "metadata": {
        "colab": {
          "base_uri": "https://localhost:8080/"
        },
        "id": "C0PIox_kjHQM",
        "outputId": "df7c0a23-1825-4369-ae92-2ba90624e159"
      },
      "source": [
        "n = int(input('masukkan nilai n:'))\n",
        "for i in range (1,n):\n",
        "  s=3*i\n",
        "  print(s,end=\" \")"
      ],
      "execution_count": null,
      "outputs": [
        {
          "output_type": "stream",
          "text": [
            "masukkan nilai n:11\n",
            "3 6 9 12 15 18 21 24 27 30 "
          ],
          "name": "stdout"
        }
      ]
    },
    {
      "cell_type": "code",
      "metadata": {
        "colab": {
          "base_uri": "https://localhost:8080/"
        },
        "id": "fYYZZ62nj5IX",
        "outputId": "4ac6f912-b18d-4582-d61e-385b2e4cb4f4"
      },
      "source": [
        "n = int(input('masukkan nilai n:'))\n",
        "for i in range (1,n):\n",
        "  s=i+7\n",
        "  print(s,end=\" \")"
      ],
      "execution_count": null,
      "outputs": [
        {
          "output_type": "stream",
          "text": [
            "masukkan nilai n:11\n",
            "8 9 10 11 12 13 14 15 16 17 "
          ],
          "name": "stdout"
        }
      ]
    },
    {
      "cell_type": "code",
      "metadata": {
        "colab": {
          "base_uri": "https://localhost:8080/"
        },
        "id": "zuldPdpEkxv-",
        "outputId": "bde4ddfe-13a4-42a4-ff2c-b02f983d4dda"
      },
      "source": [
        "n = int(input('masukkan nilai n:'))\n",
        "for i in range (1,n):\n",
        "  s=i*i\n",
        "  print(s,end=\" \")"
      ],
      "execution_count": null,
      "outputs": [
        {
          "output_type": "stream",
          "text": [
            "masukkan nilai n:11\n",
            "1 4 9 16 25 36 49 64 81 100 "
          ],
          "name": "stdout"
        }
      ]
    }
  ]
}