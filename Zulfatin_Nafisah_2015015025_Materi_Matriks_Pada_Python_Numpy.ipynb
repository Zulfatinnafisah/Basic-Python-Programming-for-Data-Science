{
  "nbformat": 4,
  "nbformat_minor": 0,
  "metadata": {
    "colab": {
      "name": "Zulfatin Nafisah_2015015025_Materi_Matriks_Pada_Python_Numpy.ipynb",
      "provenance": [],
      "collapsed_sections": [],
      "authorship_tag": "ABX9TyP32LOIUIdaWIKSzIve6/eR",
      "include_colab_link": true
    },
    "kernelspec": {
      "display_name": "Python 3",
      "name": "python3"
    },
    "language_info": {
      "name": "python"
    }
  },
  "cells": [
    {
      "cell_type": "markdown",
      "metadata": {
        "id": "view-in-github",
        "colab_type": "text"
      },
      "source": [
        "<a href=\"https://colab.research.google.com/github/Zulfatinnafisah/Basic-Python-Programming-for-Data-Science/blob/main/Zulfatin_Nafisah_2015015025_Materi_Matriks_Pada_Python_Numpy.ipynb\" target=\"_parent\"><img src=\"https://colab.research.google.com/assets/colab-badge.svg\" alt=\"Open In Colab\"/></a>"
      ]
    },
    {
      "cell_type": "markdown",
      "metadata": {
        "id": "pA29it404-BB"
      },
      "source": [
        "## 1.) Membuat Numpy Array"
      ]
    },
    {
      "cell_type": "code",
      "metadata": {
        "colab": {
          "base_uri": "https://localhost:8080/"
        },
        "id": "mDVY0S5P5Erw",
        "outputId": "b1f384f2-c726-4a82-b5d6-a382e3a7d716"
      },
      "source": [
        "import numpy as np\n",
        "# Vector\n",
        "x = np.array([1,2,3,4,5])\n",
        "print(\"\\nvektor bilangan bulat positif\\n\",x)\n",
        "y = np.arange(1,25,2)\n",
        "print(\"\\nvektor 1 sampai 25 dengan beda 2\\n\",y)\n",
        "\n",
        "# Linspace\n",
        "a = np.linspace(2,20,25)\n",
        "print(\"\\nmembuat linspace\\n\",a)\n",
        "\n",
        "# Matrik\n",
        "a = np.array([(2,5,7),(3,4,6),(4,5,8),(3,6,4)])\n",
        "print(\"\\nmatriks biasa dengan 4 baris dan 4 colom\",a)\n",
        "b = np.zeros((4,3))\n",
        "print(\"\\nmembuat matriks 4 baris 3 colom yang semua elemennya 0\\n\",b)\n",
        "c = np.ones((3,4))\n",
        "print(\"\\nmembuat matriks 3 baris 4 colom yang semua elemennya 1\\n\",c)\n",
        "d = np.identity(5)\n",
        "print(\"\\nmembuat matriks diagonal, dengan baris 5 colom 5\\n\",d)\n",
        "e = np.eye(5)\n",
        "print(\"\\nmembuat matriks diagonal, dengan baris 5 colom 5\\n\",e)"
      ],
      "execution_count": 7,
      "outputs": [
        {
          "output_type": "stream",
          "text": [
            "\n",
            "vektor bilangan bulat positif\n",
            " [1 2 3 4 5]\n",
            "\n",
            "vektor 1 sampai 25 dengan beda 2\n",
            " [ 1  3  5  7  9 11 13 15 17 19 21 23]\n",
            "\n",
            "membuat linspace\n",
            " [ 2.    2.75  3.5   4.25  5.    5.75  6.5   7.25  8.    8.75  9.5  10.25\n",
            " 11.   11.75 12.5  13.25 14.   14.75 15.5  16.25 17.   17.75 18.5  19.25\n",
            " 20.  ]\n",
            "\n",
            "matriks biasa dengan 4 baris dan 4 colom [[2 5 7]\n",
            " [3 4 6]\n",
            " [4 5 8]\n",
            " [3 6 4]]\n",
            "\n",
            "membuat matriks 4 baris 3 colom yang semua elemennya 0\n",
            " [[0. 0. 0.]\n",
            " [0. 0. 0.]\n",
            " [0. 0. 0.]\n",
            " [0. 0. 0.]]\n",
            "\n",
            "membuat matriks 3 baris 4 colom yang semua elemennya 1\n",
            " [[1. 1. 1. 1.]\n",
            " [1. 1. 1. 1.]\n",
            " [1. 1. 1. 1.]]\n",
            "\n",
            "membuat matriks diagonal, dengan baris 5 colom 5\n",
            " [[1. 0. 0. 0. 0.]\n",
            " [0. 1. 0. 0. 0.]\n",
            " [0. 0. 1. 0. 0.]\n",
            " [0. 0. 0. 1. 0.]\n",
            " [0. 0. 0. 0. 1.]]\n",
            "\n",
            "membuat matriks diagonal, dengan baris 5 colom 5\n",
            " [[1. 0. 0. 0. 0.]\n",
            " [0. 1. 0. 0. 0.]\n",
            " [0. 0. 1. 0. 0.]\n",
            " [0. 0. 0. 1. 0.]\n",
            " [0. 0. 0. 0. 1.]]\n"
          ],
          "name": "stdout"
        }
      ]
    },
    {
      "cell_type": "markdown",
      "metadata": {
        "id": "ssKA4Jg7Cqc2"
      },
      "source": [
        "##2.) Vektor Dengan Numpy Array"
      ]
    },
    {
      "cell_type": "code",
      "metadata": {
        "colab": {
          "base_uri": "https://localhost:8080/"
        },
        "id": "aEp0Jmk-C79k",
        "outputId": "92415249-3434-4948-f17e-22f79f098cf1"
      },
      "source": [
        "a = np.array([2,3,5,7,11])\n",
        "print(a)\n",
        "\n",
        "b = np.arange(3,20,4)\n",
        "print(b) "
      ],
      "execution_count": null,
      "outputs": [
        {
          "output_type": "stream",
          "text": [
            "[ 2  3  5  7 11]\n",
            "[ 3  7 11 15 19]\n"
          ],
          "name": "stdout"
        }
      ]
    },
    {
      "cell_type": "markdown",
      "metadata": {
        "id": "GBPdVrndD0QA"
      },
      "source": [
        "## 3.) Operasi Vektor (Penjumlahan,Pengurangan,Perkalian dengan skalar)"
      ]
    },
    {
      "cell_type": "code",
      "metadata": {
        "colab": {
          "base_uri": "https://localhost:8080/"
        },
        "id": "jkQiOYgcEw6q",
        "outputId": "e94c7545-0b44-4bed-ef44-e75619b9ac74"
      },
      "source": [
        "# Penjumlahan\n",
        "a+b"
      ],
      "execution_count": null,
      "outputs": [
        {
          "output_type": "execute_result",
          "data": {
            "text/plain": [
              "array([ 5, 10, 16, 22, 30])"
            ]
          },
          "metadata": {
            "tags": []
          },
          "execution_count": 22
        }
      ]
    },
    {
      "cell_type": "code",
      "metadata": {
        "colab": {
          "base_uri": "https://localhost:8080/"
        },
        "id": "sDzJrj8VHveE",
        "outputId": "3c06b617-b930-434f-957f-91cec2facdd8"
      },
      "source": [
        "# Pengurangan\n",
        "a-b"
      ],
      "execution_count": null,
      "outputs": [
        {
          "output_type": "execute_result",
          "data": {
            "text/plain": [
              "array([-1, -4, -6, -8, -8])"
            ]
          },
          "metadata": {
            "tags": []
          },
          "execution_count": 23
        }
      ]
    },
    {
      "cell_type": "code",
      "metadata": {
        "colab": {
          "base_uri": "https://localhost:8080/"
        },
        "id": "KoWFTK8tH1Lx",
        "outputId": "09557b62-10d0-4f81-9168-63366326f5a8"
      },
      "source": [
        "#perkalian skalar\n",
        "a*b"
      ],
      "execution_count": null,
      "outputs": [
        {
          "output_type": "execute_result",
          "data": {
            "text/plain": [
              "array([  6,  21,  55, 105, 209])"
            ]
          },
          "metadata": {
            "tags": []
          },
          "execution_count": 24
        }
      ]
    },
    {
      "cell_type": "markdown",
      "metadata": {
        "id": "FEeevasuIKXd"
      },
      "source": [
        "##4.) Matriks Dengan Numpy Array"
      ]
    },
    {
      "cell_type": "code",
      "metadata": {
        "colab": {
          "base_uri": "https://localhost:8080/"
        },
        "id": "RLZ6hYaoIYk0",
        "outputId": "e9bdd64d-277b-48cf-f110-7e17f1b39a7c"
      },
      "source": [
        "X = np.array([(2,4,7),(1,3,4),(6,8,10)])\n",
        "print(\"\\nMatriks X\\n\",X)\n",
        "\n",
        "Y = np.array([(3,5,6),(5,6,7),(2,1,5)])\n",
        "print(\"\\nMatriks Y\\n\",Y)\n",
        "\n",
        "Z = np.array([(5,7,8,7),(4,9,7,9),(3,8,7,5),(4,7,9,3)])\n",
        "print(\"\\nMatriks Z\\n\",Z)"
      ],
      "execution_count": null,
      "outputs": [
        {
          "output_type": "stream",
          "text": [
            "\n",
            "Matriks X\n",
            " [[ 2  4  7]\n",
            " [ 1  3  4]\n",
            " [ 6  8 10]]\n",
            "\n",
            "Matriks Y\n",
            " [[3 5 6]\n",
            " [5 6 7]\n",
            " [2 1 5]]\n",
            "\n",
            "Matriks Z\n",
            " [[5 7 8 7]\n",
            " [4 9 7 9]\n",
            " [3 8 7 5]\n",
            " [4 7 9 3]]\n"
          ],
          "name": "stdout"
        }
      ]
    },
    {
      "cell_type": "markdown",
      "metadata": {
        "id": "umY2KNTyLZxG"
      },
      "source": [
        "## 5.) Operasi Matriks(Penjumlahan,Pengurangan,Perkalian dengan Skalar,Perkalian Matriks)"
      ]
    },
    {
      "cell_type": "code",
      "metadata": {
        "colab": {
          "base_uri": "https://localhost:8080/"
        },
        "id": "fgdYupLbLsfw",
        "outputId": "7650d787-4bf1-4224-e00d-f25dac431005"
      },
      "source": [
        "# Penjumlahan\n",
        "np.add(X,Y)"
      ],
      "execution_count": null,
      "outputs": [
        {
          "output_type": "execute_result",
          "data": {
            "text/plain": [
              "array([[ 5,  9, 13],\n",
              "       [ 6,  9, 11],\n",
              "       [ 8,  9, 15]])"
            ]
          },
          "metadata": {
            "tags": []
          },
          "execution_count": 58
        }
      ]
    },
    {
      "cell_type": "code",
      "metadata": {
        "colab": {
          "base_uri": "https://localhost:8080/"
        },
        "id": "XOzz1aEcL6oB",
        "outputId": "6429a28e-c09f-40a8-ccef-67b02e0743b0"
      },
      "source": [
        "# Pengurangan\n",
        "np.subtract(Y,X)"
      ],
      "execution_count": null,
      "outputs": [
        {
          "output_type": "execute_result",
          "data": {
            "text/plain": [
              "array([[ 1,  1, -1],\n",
              "       [ 4,  3,  3],\n",
              "       [-4, -7, -5]])"
            ]
          },
          "metadata": {
            "tags": []
          },
          "execution_count": 59
        }
      ]
    },
    {
      "cell_type": "code",
      "metadata": {
        "colab": {
          "base_uri": "https://localhost:8080/"
        },
        "id": "rMzDUxS_MCfy",
        "outputId": "2bcfeace-5e11-4c7a-ba5f-7b72776665d6"
      },
      "source": [
        "# Perkalian dengan Skalar\n",
        "5*X"
      ],
      "execution_count": null,
      "outputs": [
        {
          "output_type": "execute_result",
          "data": {
            "text/plain": [
              "array([[10, 20, 35],\n",
              "       [ 5, 15, 20],\n",
              "       [30, 40, 50]])"
            ]
          },
          "metadata": {
            "tags": []
          },
          "execution_count": 60
        }
      ]
    },
    {
      "cell_type": "code",
      "metadata": {
        "colab": {
          "base_uri": "https://localhost:8080/"
        },
        "id": "UJPICmVPMUjJ",
        "outputId": "1736b730-d206-4baa-feec-275cd02c2ffe"
      },
      "source": [
        "# Perkalian Matriks\n",
        "np.multiply(X,Y)"
      ],
      "execution_count": null,
      "outputs": [
        {
          "output_type": "execute_result",
          "data": {
            "text/plain": [
              "array([[ 6, 20, 42],\n",
              "       [ 5, 18, 28],\n",
              "       [12,  8, 50]])"
            ]
          },
          "metadata": {
            "tags": []
          },
          "execution_count": 61
        }
      ]
    },
    {
      "cell_type": "markdown",
      "metadata": {
        "id": "WaxC2VYIN0aG"
      },
      "source": [
        "##6.) Dot Product dan Cross Product"
      ]
    },
    {
      "cell_type": "code",
      "metadata": {
        "colab": {
          "base_uri": "https://localhost:8080/"
        },
        "id": "Di4RZtmYN8_b",
        "outputId": "653af49b-4f03-4f27-8434-6fabe56390ba"
      },
      "source": [
        "# Dot Product\n",
        "np.dot(X,Y)"
      ],
      "execution_count": null,
      "outputs": [
        {
          "output_type": "execute_result",
          "data": {
            "text/plain": [
              "array([[ 40,  41,  75],\n",
              "       [ 26,  27,  47],\n",
              "       [ 78,  88, 142]])"
            ]
          },
          "metadata": {
            "tags": []
          },
          "execution_count": 63
        }
      ]
    },
    {
      "cell_type": "code",
      "metadata": {
        "colab": {
          "base_uri": "https://localhost:8080/"
        },
        "id": "Bt3CPppiQnOp",
        "outputId": "b2511409-fe2d-4f3b-8cbb-0b1dc80192c1"
      },
      "source": [
        "# Cross Product\n",
        "np.cross(X,Y)"
      ],
      "execution_count": null,
      "outputs": [
        {
          "output_type": "execute_result",
          "data": {
            "text/plain": [
              "array([[-11,   9,  -2],\n",
              "       [ -3,  13,  -9],\n",
              "       [ 30, -10, -10]])"
            ]
          },
          "metadata": {
            "tags": []
          },
          "execution_count": 64
        }
      ]
    },
    {
      "cell_type": "markdown",
      "metadata": {
        "id": "ko95U-UzREG3"
      },
      "source": [
        "## 7.) Aljabar Linier dengan Numpy"
      ]
    },
    {
      "cell_type": "code",
      "metadata": {
        "colab": {
          "base_uri": "https://localhost:8080/"
        },
        "id": "Y_7e4u8pRK-w",
        "outputId": "37704ba0-27ea-4330-f460-19d457ef893d"
      },
      "source": [
        "# Inverse\n",
        "invX= np.linalg.inv(X)\n",
        "print(invX,\"\\n\")\n",
        "\n",
        "invY = np.linalg.inv(Y)\n",
        "print(invY)"
      ],
      "execution_count": null,
      "outputs": [
        {
          "output_type": "stream",
          "text": [
            "[[ 0.11111111 -0.88888889  0.27777778]\n",
            " [-0.77777778  1.22222222  0.05555556]\n",
            " [ 0.55555556 -0.44444444 -0.11111111]] \n",
            "\n",
            "[[-0.82142857  0.67857143  0.03571429]\n",
            " [ 0.39285714 -0.10714286 -0.32142857]\n",
            " [ 0.25       -0.25        0.25      ]]\n"
          ],
          "name": "stdout"
        }
      ]
    },
    {
      "cell_type": "code",
      "metadata": {
        "colab": {
          "base_uri": "https://localhost:8080/"
        },
        "id": "v5X-Sdy7VhZ5",
        "outputId": "8d13d192-3d90-42b9-b453-6bdda3bb2576"
      },
      "source": [
        "# Determinan\n",
        "detX = np.linalg.det(X)\n",
        "print(\"Determinan Matriks X = \",detX,\"\\n\")\n",
        "\n",
        "detY = np.linalg.det(Y)\n",
        "print(\"Determinan Matriks Y = \",detY)"
      ],
      "execution_count": null,
      "outputs": [
        {
          "output_type": "stream",
          "text": [
            "Determinan Matriks X =  -18.000000000000004 \n",
            "\n",
            "Determinan Matriks Y =  -27.999999999999986\n"
          ],
          "name": "stdout"
        }
      ]
    },
    {
      "cell_type": "code",
      "metadata": {
        "colab": {
          "background_save": true,
          "base_uri": "https://localhost:8080/"
        },
        "id": "9_pJTuJYXM_B",
        "outputId": "be242e23-6626-49dd-fb36-cff289384aab"
      },
      "source": [
        "#Mengambil Elemen Diagonal\n",
        "diaX = np.diag(X)\n",
        "print(diaX,\"\\n\")\n",
        "\n",
        "diaY = np.diag(Y)\n",
        "print(diaY,\"\\n\")\n",
        "\n",
        "diaZ = np.diag(Z)\n",
        "print(diaZ)"
      ],
      "execution_count": null,
      "outputs": [
        {
          "output_type": "stream",
          "text": [
            "[ 2  3 10] \n",
            "\n",
            "[3 6 5] \n",
            "\n",
            "[5 9 7 3]\n"
          ],
          "name": "stdout"
        }
      ]
    },
    {
      "cell_type": "code",
      "metadata": {
        "colab": {
          "base_uri": "https://localhost:8080/"
        },
        "id": "Gq_ZIKqSXp6L",
        "outputId": "737916ed-3d0d-4692-df7c-ecf9b8876405"
      },
      "source": [
        "#Solve Persamaan Linier\n",
        "solve1 = np.linalg.solve(Y,X)\n",
        "print(solve1,\"\\n\")\n",
        "\n",
        "solve2 = np.dot(invY,X)\n",
        "print(solve2,\"\\n\")\n",
        "\n",
        "solve3 = np.linalg.solve(X,Y)\n",
        "print(solve3,\"\\n\")\n",
        "\n",
        "solve4 = np.dot(invX,Y)\n",
        "print(solve4)"
      ],
      "execution_count": null,
      "outputs": [
        {
          "output_type": "stream",
          "text": [
            "[[-0.75       -0.96428571 -2.67857143]\n",
            " [-1.25       -1.32142857 -0.89285714]\n",
            " [ 1.75        2.25        3.25      ]] \n",
            "\n",
            "[[-0.75       -0.96428571 -2.67857143]\n",
            " [-1.25       -1.32142857 -0.89285714]\n",
            " [ 1.75        2.25        3.25      ]] \n",
            "\n",
            "[[-3.55555556 -4.5        -4.16666667]\n",
            " [ 3.88888889  3.5         4.16666667]\n",
            " [-0.77777778  0.         -0.33333333]] \n",
            "\n",
            "[[-3.55555556e+00 -4.50000000e+00 -4.16666667e+00]\n",
            " [ 3.88888889e+00  3.50000000e+00  4.16666667e+00]\n",
            " [-7.77777778e-01 -2.77555756e-16 -3.33333333e-01]]\n"
          ],
          "name": "stdout"
        }
      ]
    },
    {
      "cell_type": "markdown",
      "metadata": {
        "id": "zMRKIcBtY0Xb"
      },
      "source": [
        "## 8.) Principal Component Analysis dengan Numpy"
      ]
    },
    {
      "cell_type": "code",
      "metadata": {
        "id": "m8s_W2HcY_Ia",
        "colab": {
          "base_uri": "https://localhost:8080/",
          "height": 316
        },
        "outputId": "4e62feae-a69e-43d6-ebdc-8908d0a7ce9b"
      },
      "source": [
        "import matplotlib.pyplot as plt\n",
        "x=np.arange(-4,3,1)\n",
        "y=x**3+x**2+1\n",
        "print(x)\n",
        "print(y)\n",
        "plt.plot(x,y)"
      ],
      "execution_count": 21,
      "outputs": [
        {
          "output_type": "stream",
          "text": [
            "[-4 -3 -2 -1  0  1  2]\n",
            "[-47 -17  -3   1   1   3  13]\n"
          ],
          "name": "stdout"
        },
        {
          "output_type": "execute_result",
          "data": {
            "text/plain": [
              "[<matplotlib.lines.Line2D at 0x7f17b4f1c9d0>]"
            ]
          },
          "metadata": {
            "tags": []
          },
          "execution_count": 21
        },
        {
          "output_type": "display_data",
          "data": {
            "image/png": "[encoded data removed]",
            "text/plain": [
              "<Figure size 432x288 with 1 Axes>"
            ]
          },
          "metadata": {
            "tags": [],
            "needs_background": "light"
          }
        }
      ]
    }
  ]
}